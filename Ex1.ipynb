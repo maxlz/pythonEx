{
 "cells": [
  {
   "cell_type": "markdown",
   "metadata": {},
   "source": [
    "## 将两个已经排序的list有序合并"
   ]
  },
  {
   "cell_type": "code",
   "execution_count": 1,
   "metadata": {},
   "outputs": [],
   "source": [
    "a = [1,3,4,5,8,10,19,23]\n",
    "b = [0,4,7,9]"
   ]
  },
  {
   "cell_type": "code",
   "execution_count": 2,
   "metadata": {},
   "outputs": [],
   "source": [
    "j = 0\n",
    "for i in range(len(a)):\n",
    "    while j<len(b):\n",
    "        if a[i]<=b[j]:\n",
    "            b.insert(j,a[i])\n",
    "            break  # 跳出while，选取下一个a元素\n",
    "        else:\n",
    "            j=j+1  #否则，b下标向后移动\n",
    "    if j==len(b):  #比较结束后，a有多余的元素，用append添加到末尾\n",
    "        b.append(a[i])\n"
   ]
  },
  {
   "cell_type": "code",
   "execution_count": 3,
   "metadata": {},
   "outputs": [
    {
     "data": {
      "text/plain": [
       "[0, 1, 3, 4, 4, 5, 7, 8, 9, 10, 19, 23]"
      ]
     },
     "execution_count": 3,
     "metadata": {},
     "output_type": "execute_result"
    }
   ],
   "source": [
    "b"
   ]
  },
  {
   "cell_type": "markdown",
   "metadata": {},
   "source": [
    "## 需找出一个列表中是否有两个数的和为一个给定的数，并返回这两个数的下标。"
   ]
  },
  {
   "cell_type": "code",
   "execution_count": 18,
   "metadata": {},
   "outputs": [],
   "source": [
    "target = 24\n",
    "a = [2,3,4,56,7,11,13,0,7,17]"
   ]
  },
  {
   "cell_type": "code",
   "execution_count": 19,
   "metadata": {},
   "outputs": [
    {
     "name": "stdout",
     "output_type": "stream",
     "text": [
      "4 9\n",
      "5 6\n",
      "8 9\n"
     ]
    }
   ],
   "source": [
    "for i in range(len(a)):\n",
    "    j=i\n",
    "    while j<len(a):\n",
    "        if a[i]+a[j]==target:\n",
    "            print(i,j)\n",
    "        j=j+1"
   ]
  },
  {
   "cell_type": "code",
   "execution_count": null,
   "metadata": {},
   "outputs": [],
   "source": []
  }
 ],
 "metadata": {
  "kernelspec": {
   "display_name": "Python 3",
   "language": "python",
   "name": "python3"
  },
  "language_info": {
   "codemirror_mode": {
    "name": "ipython",
    "version": 3
   },
   "file_extension": ".py",
   "mimetype": "text/x-python",
   "name": "python",
   "nbconvert_exporter": "python",
   "pygments_lexer": "ipython3",
   "version": "3.6.6"
  }
 },
 "nbformat": 4,
 "nbformat_minor": 2
}
